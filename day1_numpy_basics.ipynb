{
 "cells": [
  {
   "cell_type": "code",
   "execution_count": null,
   "metadata": {},
   "outputs": [],
   "source": [
    "# Variables\n",
    "a = 10\n",
    "b = 3.5\n",
    "name = \"Anuj\"\n",
    "print(a, b, name)\n",
    "\n",
    "# Lists\n",
    "numbers = list(range(1, 11))\n",
    "print(numbers)\n",
    "\n",
    "# Loops\n",
    "for num in numbers:\n",
    "    print(num, end=\" \")\n",
    "\n",
    "# Functions\n",
    "def multiply(x, y):\n",
    "    return x * y\n",
    "\n",
    "print(\"\\nMultiply:\", multiply(3, 4))\n"
   ]
  },
  {
   "cell_type": "code",
   "execution_count": null,
   "metadata": {},
   "outputs": [],
   "source": [
    "import numpy as np\n",
    "\n",
    "# Creating arrays\n",
    "arr = np.array([1, 2, 3, 4, 5])\n",
    "print(\"Array:\", arr)\n",
    "\n",
    "# Shape & size\n",
    "print(\"Shape:\", arr.shape)\n",
    "print(\"Size:\", arr.size)\n",
    "\n",
    "# Operations\n",
    "print(\"Multiply by 2:\", arr * 2)\n",
    "print(\"Add 10:\", arr + 10)\n",
    "\n",
    "# 2D Array\n",
    "mat = np.array([[1, 2], [3, 4]])\n",
    "print(\"Matrix:\\n\", mat)\n",
    "print(\"Shape:\", mat.shape)\n"
   ]
  },
  {
   "cell_type": "code",
   "execution_count": null,
   "metadata": {},
   "outputs": [],
   "source": [
    "# Create a list of numbers from 1 to 20.\n",
    "\n",
    "import numpy as np\n",
    "\n",
    "numbers = list(range(1, 20))\n",
    "\n",
    "print(\"Numbers\", numbers)\n",
    "\n",
    "# numpy array conversion\n",
    "numpyArr = np.array(numbers)\n",
    "\n",
    "print(\"NumpyArr\", numpyArr)\n",
    "\n",
    "# multiply by 5\n",
    "\n",
    "multiplyResult = numpyArr * 5;\n",
    "\n",
    "print(\"Multiply by 5\", multiplyResult)\n",
    "\n",
    "# print all number greater than 50\n",
    "\n",
    "for num in multiplyResult:\n",
    "    if num > 50:\n",
    "        print(num)"
   ]
  }
 ],
 "metadata": {
  "language_info": {
   "name": "python"
  },
  "orig_nbformat": 4
 },
 "nbformat": 4,
 "nbformat_minor": 2
}
